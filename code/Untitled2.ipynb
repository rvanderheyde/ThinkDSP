{
 "metadata": {
  "name": "",
  "signature": "sha256:6dcf7cfeaa113d6fa56f4383c680cc89b7aee6733ebb511dd12ce9cf7c2efe05"
 },
 "nbformat": 3,
 "nbformat_minor": 0,
 "worksheets": [
  {
   "cells": [
    {
     "cell_type": "code",
     "collapsed": false,
     "input": [
      "import numpy\n",
      "c = complex(-1.5,-.5)\n",
      "phase = numpy.angle(c)\n",
      "amp = numpy.absolute(c)\n",
      "print phase, amp"
     ],
     "language": "python",
     "metadata": {},
     "outputs": [
      {
       "output_type": "stream",
       "stream": "stdout",
       "text": [
        "-2.81984209919 1.58113883008\n"
       ]
      }
     ],
     "prompt_number": 2
    },
    {
     "cell_type": "code",
     "collapsed": false,
     "input": [
      "import math\n",
      "y = amp* .7*numpy.exp(2*math.pi*440j*2.1+1.1-2*math.pi*phase)\n",
      "print y"
     ],
     "language": "python",
     "metadata": {},
     "outputs": [
      {
       "output_type": "stream",
       "stream": "stdout",
       "text": [
        "(164605270.907+1.42093977926e-05j)\n"
       ]
      }
     ],
     "prompt_number": 5
    },
    {
     "cell_type": "code",
     "collapsed": false,
     "input": [
      "import thinkdsp\n",
      "%matplotlib inline\n",
      "sig = thinkdsp.SinSignal()\n",
      "w1 = sig.make_wave(duration=1)\n",
      "sig2 = thinkdsp.CosSignal()\n",
      "w2 = sig2.make_wave(duration=1)\n",
      "w1.plot()\n",
      "s1 = w1.make_spectrum()\n",
      "s2 = w2.make_spectrum()"
     ],
     "language": "python",
     "metadata": {},
     "outputs": [
      {
       "metadata": {},
       "output_type": "display_data",
       "png": "[encoded data removed]",
       "text": [
        "<matplotlib.figure.Figure at 0x18f22208>"
       ]
      }
     ],
     "prompt_number": 18
    },
    {
     "cell_type": "code",
     "collapsed": false,
     "input": [
      "s3 = s1+s2\n",
      "w3 = s3.make_wave()\n",
      "w3.plot()"
     ],
     "language": "python",
     "metadata": {},
     "outputs": [
      {
       "metadata": {},
       "output_type": "display_data",
       "png": "[encoded data removed]",
       "text": [
        "<matplotlib.figure.Figure at 0x16c6c358>"
       ]
      }
     ],
     "prompt_number": 19
    },
    {
     "cell_type": "code",
     "collapsed": false,
     "input": [],
     "language": "python",
     "metadata": {},
     "outputs": []
    }
   ],
   "metadata": {}
  }
 ]
}